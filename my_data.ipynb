{
  "nbformat": 4,
  "nbformat_minor": 0,
  "metadata": {
    "colab": {
      "provenance": [],
      "authorship_tag": "ABX9TyO/3WlfuUT25F6nZZLX8q7b",
      "include_colab_link": true
    },
    "kernelspec": {
      "name": "python3",
      "display_name": "Python 3"
    },
    "language_info": {
      "name": "python"
    }
  },
  "cells": [
    {
      "cell_type": "markdown",
      "metadata": {
        "id": "view-in-github",
        "colab_type": "text"
      },
      "source": [
        "<a href=\"https://colab.research.google.com/github/LLYMM/basic-statistics-programming/blob/main/my_data.ipynb\" target=\"_parent\"><img src=\"https://colab.research.google.com/assets/colab-badge.svg\" alt=\"Open In Colab\"/></a>"
      ]
    },
    {
      "cell_type": "code",
      "execution_count": 35,
      "metadata": {
        "id": "smIMdcIjn62q"
      },
      "outputs": [],
      "source": [
        "import pandas as pd\n",
        "import numpy as np\n",
        "import matplotlib.pyplot as plt"
      ]
    },
    {
      "cell_type": "code",
      "source": [
        "data = pd.read_csv('/content/card.csv',sep =',', encoding='euc-kr')"
      ],
      "metadata": {
        "id": "3rquhMVevA5r"
      },
      "execution_count": 72,
      "outputs": []
    },
    {
      "cell_type": "code",
      "source": [
        "print(data)"
      ],
      "metadata": {
        "colab": {
          "base_uri": "https://localhost:8080/"
        },
        "id": "b44ODx7xwS_y",
        "outputId": "ed0047e3-6eba-4833-bd00-fa2b42e7e46e"
      },
      "execution_count": 73,
      "outputs": [
        {
          "output_type": "stream",
          "name": "stdout",
          "text": [
            "           day      1      2      3       4    5       6       7       8  \\\n",
            "0     20220919  107.0  129.0  622.0  1264.0  949  2143.0  1176.0  2266.0   \n",
            "1     20220918  145.0  226.0  312.0   706.0  555  1368.0   918.0  1498.0   \n",
            "2     20220917  156.0  270.0  381.0   893.0  652  1681.0  1204.0  1972.0   \n",
            "3     20220916  104.0  126.0  598.0  1273.0  899  2117.0  1193.0  2385.0   \n",
            "4     20220915   95.0  128.0  675.0  1562.0  967  2505.0  1209.0  2715.0   \n",
            "...        ...    ...    ...    ...     ...  ...     ...     ...     ...   \n",
            "1759  20171115    NaN    NaN    NaN     NaN    3     NaN     NaN     NaN   \n",
            "1760  20171108    NaN    NaN    NaN     NaN    1     NaN     NaN     NaN   \n",
            "1761  20171103    NaN    NaN    NaN     NaN    3     1.0     NaN     NaN   \n",
            "1762  20171102    NaN    NaN    NaN     NaN    2     1.0     NaN     NaN   \n",
            "1763  20171101    NaN    NaN    NaN     NaN    5     7.0     NaN     NaN   \n",
            "\n",
            "          9      10     11     12    sum  \n",
            "0     668.0  1154.0  407.0  654.0  11539  \n",
            "1     460.0   399.0  160.0  144.0   6891  \n",
            "2     537.0   613.0  282.0  391.0   9032  \n",
            "3     643.0  1118.0  378.0  568.0  11402  \n",
            "4     692.0  1163.0  370.0  589.0  12670  \n",
            "...     ...     ...    ...    ...    ...  \n",
            "1759    NaN     NaN    NaN    NaN      3  \n",
            "1760    NaN     NaN    NaN    NaN      1  \n",
            "1761    NaN     NaN    NaN    NaN      4  \n",
            "1762    NaN     NaN    NaN    NaN      3  \n",
            "1763    NaN     NaN    NaN    NaN     12  \n",
            "\n",
            "[1764 rows x 14 columns]\n"
          ]
        }
      ]
    },
    {
      "cell_type": "code",
      "source": [
        "data1=data[\"sum\"]"
      ],
      "metadata": {
        "id": "KQMxGuxj-vC2"
      },
      "execution_count": 74,
      "outputs": []
    },
    {
      "cell_type": "code",
      "source": [
        "print(data1)\n",
        "\n",
        "print(data1[0])"
      ],
      "metadata": {
        "colab": {
          "base_uri": "https://localhost:8080/"
        },
        "id": "A1T0gpiTwno6",
        "outputId": "1167ec15-b585-466b-c336-e93768acc9d9"
      },
      "execution_count": 75,
      "outputs": [
        {
          "output_type": "stream",
          "name": "stdout",
          "text": [
            "0       11539\n",
            "1        6891\n",
            "2        9032\n",
            "3       11402\n",
            "4       12670\n",
            "        ...  \n",
            "1759        3\n",
            "1760        1\n",
            "1761        4\n",
            "1762        3\n",
            "1763       12\n",
            "Name: sum, Length: 1764, dtype: int64\n",
            "11539\n"
          ]
        }
      ]
    },
    {
      "cell_type": "code",
      "source": [
        "data.info()"
      ],
      "metadata": {
        "id": "AXkRGUqwwTBw"
      },
      "execution_count": null,
      "outputs": []
    },
    {
      "cell_type": "code",
      "source": [
        "data.shape"
      ],
      "metadata": {
        "colab": {
          "base_uri": "https://localhost:8080/"
        },
        "id": "7JmtHiV88XvY",
        "outputId": "7bfbd991-819d-4751-a4a4-eabeb9624955"
      },
      "execution_count": 77,
      "outputs": [
        {
          "output_type": "execute_result",
          "data": {
            "text/plain": [
              "(1764, 14)"
            ]
          },
          "metadata": {},
          "execution_count": 77
        }
      ]
    },
    {
      "cell_type": "code",
      "source": [
        "def average(k, x_avg_k_1, x_measure):\n",
        "    alpha = (k-1)/k\n",
        "    x_avg_k = alpha * x_avg_k_1 +(1-alpha)*x_measure\n",
        "    return x_avg_k"
      ],
      "metadata": {
        "id": "4C82XI57wwAj"
      },
      "execution_count": 79,
      "outputs": []
    },
    {
      "cell_type": "code",
      "source": [
        "time1 = 1764\n",
        "x_meas_save = np.zeros(time1)\n",
        "x_avg_save  = np.zeros(time1)\n",
        "time = np.zeros(time1)"
      ],
      "metadata": {
        "id": "kmwrWPoi8feY"
      },
      "execution_count": 90,
      "outputs": []
    },
    {
      "cell_type": "code",
      "source": [
        "x_avg_k_1 = 0\n",
        "for i in range(0, 1764):\n",
        "    k = i + 1\n",
        "    x_data = data1[i]\n",
        "    x_avg_k = average(k, x_avg_k_1, x_data)\n",
        "    x_meas_save[i] = x_data\n",
        "    x_avg_save[i]   = x_avg_k\n",
        "    time[i] = k\n",
        "    x_avg_k_1=x_avg_k\n",
        "    print(x_meas_save[i])"
      ],
      "metadata": {
        "id": "mjczL0qY8hwX"
      },
      "execution_count": null,
      "outputs": []
    },
    {
      "cell_type": "code",
      "source": [
        "plt.plot(time, x_meas_save, 'r*', label='Measured')\n",
        "plt.plot(time, x_avg_save, 'b-', label='Low-pass Filter')\n",
        "plt.legend(loc='upper left')\n",
        "plt.title('Measured Altitudes v.s. LPF Values')\n",
        "plt.xlabel('Time OwO')\n",
        "plt.ylabel('Altitude WoW')\n",
        "plt.savefig('/png')"
      ],
      "metadata": {
        "colab": {
          "base_uri": "https://localhost:8080/",
          "height": 295
        },
        "id": "HTMQMpYlw6Tw",
        "outputId": "b40bd7b6-c7f3-4f23-9200-23c1b2bb78b3"
      },
      "execution_count": 93,
      "outputs": [
        {
          "output_type": "display_data",
          "data": {
            "text/plain": [
              "<Figure size 432x288 with 1 Axes>"
            ],
            "image/png": "[encoded data removed]"
          },
          "metadata": {
            "needs_background": "light"
          }
        }
      ]
    }
  ]
}