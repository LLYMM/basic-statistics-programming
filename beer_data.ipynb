{
  "nbformat": 4,
  "nbformat_minor": 0,
  "metadata": {
    "colab": {
      "private_outputs": true,
      "provenance": [],
      "include_colab_link": true
    },
    "kernelspec": {
      "name": "python3",
      "display_name": "Python 3"
    },
    "language_info": {
      "name": "python"
    }
  },
  "cells": [
    {
      "cell_type": "markdown",
      "metadata": {
        "id": "view-in-github",
        "colab_type": "text"
      },
      "source": [
        "<a href=\"https://colab.research.google.com/github/LLYMM/basic-statistics-programming/blob/main/beer_data.ipynb\" target=\"_parent\"><img src=\"https://colab.research.google.com/assets/colab-badge.svg\" alt=\"Open In Colab\"/></a>"
      ]
    },
    {
      "cell_type": "code",
      "execution_count": null,
      "metadata": {
        "id": "mAS_ScB1wzq_"
      },
      "outputs": [],
      "source": [
        "import pandas as pd\n",
        "import numpy as np\n",
        "import matplotlib.pyplot as plt\n",
        "from scipy import io"
      ]
    },
    {
      "cell_type": "code",
      "source": [
        "input_mat = io.loadmat('/content/png/SonarAl (1).mat')"
      ],
      "metadata": {
        "id": "0tKKGylMqnXM"
      },
      "execution_count": null,
      "outputs": []
    },
    {
      "cell_type": "code",
      "source": [
        "print(input_mat)"
      ],
      "metadata": {
        "id": "UfHVJox2qnZK"
      },
      "execution_count": null,
      "outputs": []
    },
    {
      "cell_type": "code",
      "source": [
        "def get_sonar(i):\n",
        "    \"\"\"Measure sonar.\"\"\"\n",
        "    z = input_mat['sonarAlt'][0][i]  # input_mat['sonaralt']: (1, 1501)\n",
        "    return z"
      ],
      "metadata": {
        "id": "h5i7XZRNq_Gd"
      },
      "execution_count": null,
      "outputs": []
    },
    {
      "cell_type": "code",
      "source": [],
      "metadata": {
        "id": "A-CvYE61q_Ij"
      },
      "execution_count": null,
      "outputs": []
    },
    {
      "cell_type": "markdown",
      "source": [
        "참고 사이트\n",
        "\n",
        "https://nittaku.tistory.com/114"
      ],
      "metadata": {
        "id": "INjO5GSCw4L2"
      }
    },
    {
      "cell_type": "code",
      "source": [
        "data = pd.read_csv(\"https://raw.githubusercontent.com/jamesrobertlloyd/gp-structure-search/master/data/raw/TSDL/monthly-beer-production-in-austr.csv\",sep=',' )"
      ],
      "metadata": {
        "id": "1sVoFPwuw0py"
      },
      "execution_count": null,
      "outputs": []
    },
    {
      "cell_type": "code",
      "source": [
        "data.info()"
      ],
      "metadata": {
        "id": "vulS8j1Rw8cK"
      },
      "execution_count": null,
      "outputs": []
    },
    {
      "cell_type": "code",
      "source": [
        "print(data)"
      ],
      "metadata": {
        "id": "7jndtjMNw-ND"
      },
      "execution_count": null,
      "outputs": []
    },
    {
      "cell_type": "code",
      "source": [
        "data1 = data[\"Monthly beer production in Australia: megalitres. Includes ale and stout. Does not include beverages with alcohol percentage less than 1.15. Jan 1956 ? Aug 1995\"]"
      ],
      "metadata": {
        "id": "WWl2jcqMw-_e"
      },
      "execution_count": null,
      "outputs": []
    },
    {
      "cell_type": "code",
      "source": [
        "print(data1)\n",
        "#총 0-475까지 데이터 가 있음을 확인\n",
        "\n",
        "print(data1[0])"
      ],
      "metadata": {
        "id": "ZMyjKEbvxGs2"
      },
      "execution_count": null,
      "outputs": []
    },
    {
      "cell_type": "code",
      "source": [
        "def low_pass_filter(x_meas, x_esti, m_alpha):\n",
        "    \"\"\"Calculate average sonar using a low-pass filter.\"\"\"\n",
        "    x_esti = m_alpha * x_esti + (1 - alpha) * x_meas\n",
        "    return x_esti"
      ],
      "metadata": {
        "id": "R70rqyL7eHiw"
      },
      "execution_count": null,
      "outputs": []
    },
    {
      "cell_type": "code",
      "source": [
        " def mov_avg_filter(x_n, x_meas):\n",
        "    \"\"\"Calculate average sonar using a moving average filter (batch expression).\"\"\"\n",
        "    n = len(x_n)\n",
        "    for i in range(n-1):\n",
        "        x_n[i] = x_n[i+1]\n",
        "    x_n[n-1] = x_meas\n",
        "    x_avg = np.mean(x_n)\n",
        "    return x_avg, x_n"
      ],
      "metadata": {
        "id": "Mn3thWahp-AV"
      },
      "execution_count": null,
      "outputs": []
    },
    {
      "cell_type": "code",
      "source": [
        "n = 10\n",
        "time_end = 10\n",
        "n_samples = 500"
      ],
      "metadata": {
        "id": "fAcaAzaVqOKd"
      },
      "execution_count": null,
      "outputs": []
    },
    {
      "cell_type": "code",
      "source": [
        "dt = time_end / n_samples\n",
        "time = np.arange(0, time_end, dt)\n",
        "x_meas_save = np.zeros(n_samples)\n",
        "x_avg_save = np.zeros(n_samples)"
      ],
      "metadata": {
        "id": "8Rb8S1NDqOMj"
      },
      "execution_count": null,
      "outputs": []
    },
    {
      "cell_type": "code",
      "source": [
        "print(time)\n",
        "print(x_meas_save)\n",
        "print(x_avg_save)"
      ],
      "metadata": {
        "id": "Aq3gqed9qRTj"
      },
      "execution_count": null,
      "outputs": []
    },
    {
      "cell_type": "code",
      "source": [
        "for i in range(n_samples):\n",
        "    x_meas = get_sonar(i)\n",
        "    if i == 0:\n",
        "        x_avg, x_n = x_meas, x_meas * np.ones(n)\n",
        "        print(x_meas * np.ones(n))\n",
        "    else:\n",
        "        x_avg, x_n = mov_avg_filter(x_n, x_meas)\n",
        "        print(x_n)\n",
        "\n",
        "    x_meas_save[i] = x_meas\n",
        "    x_avg_save[i] = x_avg"
      ],
      "metadata": {
        "id": "Bn1rTtjVqRVb"
      },
      "execution_count": null,
      "outputs": []
    },
    {
      "cell_type": "code",
      "source": [
        "alpha = 0.9\n",
        "n_samples = 475\n",
        "time_end = 10"
      ],
      "metadata": {
        "id": "rLSVin3JeHkv"
      },
      "execution_count": null,
      "outputs": []
    },
    {
      "cell_type": "code",
      "source": [
        "dt = time_end / n_samples\n",
        "time = np.arange(0,time_end,dt)\n",
        "x_meas_save = np.zeros(n_samples)\n",
        "x_esti_save = np.zeros(n_samples)"
      ],
      "metadata": {
        "id": "ll1yQLzOicxK"
      },
      "execution_count": null,
      "outputs": []
    },
    {
      "cell_type": "code",
      "source": [
        "plt.plot(time, x_meas_save, 'r*', label='Measured')\n",
        "plt.plot(time, x_esti_save, 'b-', label='Low-pass Filter')\n",
        "plt.plot(time, x_avg_save, 'y-', label='OwO')\n",
        "plt.legend(loc='upper left')\n",
        "plt.title('Measured Altitudes v.s. LPF Values')\n",
        "plt.xlabel('Time [sec]')\n",
        "plt.ylabel('Altitude [m]')\n",
        "plt.savefig('/png')"
      ],
      "metadata": {
        "id": "sd9bpH21i22J"
      },
      "execution_count": null,
      "outputs": []
    }
  ]
}